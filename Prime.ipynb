{
  "nbformat": 4,
  "nbformat_minor": 0,
  "metadata": {
    "colab": {
      "name": "Prime.ipynb",
      "provenance": [],
      "collapsed_sections": [],
      "authorship_tag": "ABX9TyO17OXSE8Zflhv2Uq53Ec6W",
      "include_colab_link": true
    },
    "kernelspec": {
      "name": "python3",
      "display_name": "Python 3"
    },
    "language_info": {
      "name": "python"
    },
    "accelerator": "GPU"
  },
  "cells": [
    {
      "cell_type": "markdown",
      "metadata": {
        "id": "view-in-github",
        "colab_type": "text"
      },
      "source": [
        "<a href=\"https://colab.research.google.com/github/MdNazmul9/128-python-Algorithm/blob/main/Prime.ipynb\" target=\"_parent\"><img src=\"https://colab.research.google.com/assets/colab-badge.svg\" alt=\"Open In Colab\"/></a>"
      ]
    },
    {
      "cell_type": "markdown",
      "source": [
        "# Fibbonaci"
      ],
      "metadata": {
        "id": "mvmkPIhOoW0y"
      }
    },
    {
      "cell_type": "code",
      "source": [
        "import time\n",
        "t1 = time.time()\n",
        "def fib(n):\n",
        "  a = 0 \n",
        "  b = 1\n",
        "  yield a\n",
        "  yield b\n",
        "  i = 2\n",
        "  while (a+b)<=n: # n porjonto fib_number<=n\n",
        "  # while i<=n: # n sonkhok fib_number\n",
        "    yield a+b\n",
        "    a , b = b, a+b\n",
        "    # i+=1\n",
        "\n",
        "inffib  = fib(1000000000000000000)\n",
        "# next(inffib)\n",
        "print(list(inffib))\n",
        "# print(\"lenngth:\", len(list(inffib))) # length will be 0\n",
        "t2 = time.time()\n",
        "t3 = t2-t1\n",
        "print(t3)"
      ],
      "metadata": {
        "colab": {
          "base_uri": "https://localhost:8080/"
        },
        "id": "sI8sM0t7tb-m",
        "outputId": "da64dda6-76ea-466a-c704-7139a11f06f7"
      },
      "execution_count": 13,
      "outputs": [
        {
          "output_type": "stream",
          "name": "stdout",
          "text": [
            "[0, 1, 1, 2, 3, 5, 8, 13, 21, 34, 55, 89, 144, 233, 377, 610, 987, 1597, 2584, 4181, 6765, 10946, 17711, 28657, 46368, 75025, 121393, 196418, 317811, 514229, 832040, 1346269, 2178309, 3524578, 5702887, 9227465, 14930352, 24157817, 39088169, 63245986, 102334155, 165580141, 267914296, 433494437, 701408733, 1134903170, 1836311903, 2971215073, 4807526976, 7778742049, 12586269025, 20365011074, 32951280099, 53316291173, 86267571272, 139583862445, 225851433717, 365435296162, 591286729879, 956722026041, 1548008755920, 2504730781961, 4052739537881, 6557470319842, 10610209857723, 17167680177565, 27777890035288, 44945570212853, 72723460248141, 117669030460994, 190392490709135, 308061521170129, 498454011879264, 806515533049393, 1304969544928657, 2111485077978050, 3416454622906707, 5527939700884757, 8944394323791464, 14472334024676221, 23416728348467685, 37889062373143906, 61305790721611591, 99194853094755497, 160500643816367088, 259695496911122585, 420196140727489673, 679891637638612258]\n",
            "0.00041675567626953125\n"
          ]
        }
      ]
    },
    {
      "cell_type": "markdown",
      "source": [
        "# InfiniteFibonacci Number\n"
      ],
      "metadata": {
        "id": "DI4pqJ0kvx2l"
      }
    },
    {
      "cell_type": "code",
      "source": [
        "def fib():\n",
        "  a = 0 \n",
        "  b = 1\n",
        "  yield a\n",
        "  yield b\n",
        "  while True:\n",
        "    yield a+b\n",
        "    a , b = b, a+b\n",
        "inffib  = fib()\n",
        "next(inffib)\n"
      ],
      "metadata": {
        "colab": {
          "base_uri": "https://localhost:8080/"
        },
        "id": "sFXWTObrmn8Z",
        "outputId": "f9129263-2005-4ec6-d337-972843d1b99c"
      },
      "execution_count": 15,
      "outputs": [
        {
          "output_type": "execute_result",
          "data": {
            "text/plain": [
              "0"
            ]
          },
          "metadata": {},
          "execution_count": 15
        }
      ]
    },
    {
      "cell_type": "code",
      "source": [
        "for x in range(10):\n",
        "  print( next(inffib) )"
      ],
      "metadata": {
        "colab": {
          "base_uri": "https://localhost:8080/"
        },
        "id": "5GDCWB08oqK7",
        "outputId": "40146598-c761-47ca-e179-cdae68fc857d"
      },
      "execution_count": 16,
      "outputs": [
        {
          "output_type": "stream",
          "name": "stdout",
          "text": [
            "1\n",
            "1\n",
            "2\n",
            "3\n",
            "5\n",
            "8\n",
            "13\n",
            "21\n",
            "34\n",
            "55\n"
          ]
        }
      ]
    }
  ]
}